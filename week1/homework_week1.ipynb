{
 "cells": [
  {
   "cell_type": "code",
   "execution_count": 11,
   "id": "e30517e5",
   "metadata": {},
   "outputs": [
    {
     "name": "stdout",
     "output_type": "stream",
     "text": [
      "['enlist', 'inlets', 'silent', 'tinsel']\n",
      "No match\n",
      "No match\n"
     ]
    }
   ],
   "source": [
    "#homeword 1-1\n",
    "with open (\"words.txt\", \"r\",) as f:\n",
    "    dictionary = [ word.strip() for word in f if word.strip()]\n",
    "\n",
    "new_dictionary = {}\n",
    "\n",
    "for word in dictionary:\n",
    "    key = ''.join(sorted(word))\n",
    "    if key not in new_dictionary:\n",
    "        new_dictionary[key] = []\n",
    "    new_dictionary[key].append(word)\n",
    "\n",
    "\n",
    "def find_anagram(word):\n",
    "    target = ''.join(sorted(word))\n",
    "    if target not in new_dictionary: return \"No match\"\n",
    "    anagrams =  [anagram for anagram in new_dictionary[target] if anagram != word]\n",
    "    if anagrams: return anagrams\n",
    "    else : return \"No match\"\n",
    "\n",
    "print(find_anagram(\"listen\") )\n",
    "print(find_anagram(\"eeee\"))\n",
    "print(find_anagram(\"  !\"))"
   ]
  },
  {
   "cell_type": "code",
   "execution_count": null,
   "id": "d22ef8e5",
   "metadata": {},
   "outputs": [],
   "source": [
    "#homeword 1-2\n",
    "SCORE = [1, 3, 2, 2, 1, 3, 3, 1, 1, 4, 4, 2, 2, 1, 1, 3, 4, 1, 1, 1, 2, 3, 3, 4, 3, 4]\n",
    "\n",
    "def cal_score(word):\n",
    "    score = 0\n",
    "    for letter in word:\n",
    "        if 'a' <= letter <= 'z':\n",
    "            score += SCORE[ord(letter) - ord('a')]\n",
    "    return score\n",
    "\n",
    "def count(word):\n",
    "    count = {}\n",
    "    for letter in word:\n",
    "      if letter not in count:\n",
    "        count[letter] = 0\n",
    "      count[letter] += 1\n",
    "    return count\n",
    "\n",
    "def subset_or_not (word_in_dict, input):\n",
    "    word_count = count(word_in_dict)\n",
    "    input_count = count(input)\n",
    "    for letter in word_in_dict:\n",
    "        if letter not in input or word_count[letter] > input_count[letter]:return False\n",
    "    return True\n",
    "\n",
    "\n",
    "with open( \"words.txt\", \"r\") as f:\n",
    "    dictionary = [ word.strip() for word in f if word.strip() ]\n",
    "with open( \"large.txt\", \"r\") as f:\n",
    "    inputs = [ input.strip() for input in f if word.strip() ]\n",
    "\n",
    "scored_dictionary = sorted(dictionary, key=cal_score, reverse=True)\n",
    "\n",
    "answers= []\n",
    "\n",
    "for input in inputs:\n",
    "    for word in scored_dictionary:\n",
    "        answer = \"No match\"\n",
    "        if subset_or_not(word,input): \n",
    "            answer = word\n",
    "            break\n",
    "    answers.append(answer)\n",
    "\n",
    "with open(\"large_answer.txt\", \"w\") as f:\n",
    "    for word in answers: f.write(word + \"\\n\")\n",
    "    \n",
    "    \n",
    "# medium for 29s \n",
    "# large for 34s\n",
    "\n",
    "#You answer is correct! Your score is 193.\n",
    "#You answer is correct! Your score is 18911.\n",
    "#You answer is correct! Your score is 244642.\n"
   ]
  }
 ],
 "metadata": {
  "kernelspec": {
   "display_name": "3.10.12",
   "language": "python",
   "name": "python3"
  },
  "language_info": {
   "codemirror_mode": {
    "name": "ipython",
    "version": 3
   },
   "file_extension": ".py",
   "mimetype": "text/x-python",
   "name": "python",
   "nbconvert_exporter": "python",
   "pygments_lexer": "ipython3",
   "version": "3.10.12"
  }
 },
 "nbformat": 4,
 "nbformat_minor": 5
}
